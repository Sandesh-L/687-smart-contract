{
  "nbformat": 4,
  "nbformat_minor": 0,
  "metadata": {
    "colab": {
      "provenance": []
    },
    "kernelspec": {
      "name": "python3",
      "display_name": "Python 3"
    },
    "language_info": {
      "name": "python"
    }
  },
  "cells": [
    {
      "cell_type": "code",
      "execution_count": 1,
      "metadata": {
        "id": "qVJFkVa_BZZS"
      },
      "outputs": [],
      "source": [
        "api_key = \"add_api_key_here\"\n",
        "api_secret = \"add_api_secret_here\"\n",
        "access_token = \"add_access_token_here\"\n",
        "access_token_secret = \"add_token secret here\""
      ]
    },
    {
      "cell_type": "code",
      "source": [
        "!pip install tweepy==4.9.0"
      ],
      "metadata": {
        "colab": {
          "base_uri": "https://localhost:8080/"
        },
        "id": "5yy7YY3EC256",
        "outputId": "2d0843c0-b27d-4a3e-d558-fcc80477f4bc"
      },
      "execution_count": 2,
      "outputs": [
        {
          "output_type": "stream",
          "name": "stdout",
          "text": [
            "Looking in indexes: https://pypi.org/simple, https://us-python.pkg.dev/colab-wheels/public/simple/\n",
            "Collecting tweepy==4.9.0\n",
            "  Downloading tweepy-4.9.0-py3-none-any.whl (77 kB)\n",
            "\u001b[K     |████████████████████████████████| 77 kB 2.1 MB/s \n",
            "\u001b[?25hRequirement already satisfied: requests-oauthlib<2,>=1.2.0 in /usr/local/lib/python3.8/dist-packages (from tweepy==4.9.0) (1.3.1)\n",
            "Collecting requests<3,>=2.27.0\n",
            "  Downloading requests-2.28.1-py3-none-any.whl (62 kB)\n",
            "\u001b[K     |████████████████████████████████| 62 kB 659 kB/s \n",
            "\u001b[?25hRequirement already satisfied: oauthlib<4,>=3.2.0 in /usr/local/lib/python3.8/dist-packages (from tweepy==4.9.0) (3.2.2)\n",
            "Requirement already satisfied: urllib3<1.27,>=1.21.1 in /usr/local/lib/python3.8/dist-packages (from requests<3,>=2.27.0->tweepy==4.9.0) (1.24.3)\n",
            "Requirement already satisfied: charset-normalizer<3,>=2 in /usr/local/lib/python3.8/dist-packages (from requests<3,>=2.27.0->tweepy==4.9.0) (2.1.1)\n",
            "Requirement already satisfied: idna<4,>=2.5 in /usr/local/lib/python3.8/dist-packages (from requests<3,>=2.27.0->tweepy==4.9.0) (2.10)\n",
            "Requirement already satisfied: certifi>=2017.4.17 in /usr/local/lib/python3.8/dist-packages (from requests<3,>=2.27.0->tweepy==4.9.0) (2022.9.24)\n",
            "Installing collected packages: requests, tweepy\n",
            "  Attempting uninstall: requests\n",
            "    Found existing installation: requests 2.23.0\n",
            "    Uninstalling requests-2.23.0:\n",
            "      Successfully uninstalled requests-2.23.0\n",
            "  Attempting uninstall: tweepy\n",
            "    Found existing installation: tweepy 3.10.0\n",
            "    Uninstalling tweepy-3.10.0:\n",
            "      Successfully uninstalled tweepy-3.10.0\n",
            "Successfully installed requests-2.28.1 tweepy-4.9.0\n"
          ]
        }
      ]
    },
    {
      "cell_type": "code",
      "source": [
        "import tweepy\n",
        "import hashlib"
      ],
      "metadata": {
        "id": "NV7FIsP2DEnt"
      },
      "execution_count": 10,
      "outputs": []
    },
    {
      "cell_type": "code",
      "source": [
        "client = tweepy.Client(bearer_token=\"AAAAAAAAAAAAAAAAAAAAAKkukQEAAAAATzvlSHUcsgWyH6D4QmU9gGb0N9w%3DGKo3P2rVlxOaq3z1yNU2qUqKfq65AAKXS4SJIeFgryUblMYCWt\")\n",
        "\n",
        "query= '#fakenews -is:retweet lang:en'\n",
        "\n",
        "tweets = client.search_recent_tweets(query=query, tweet_fields=[\"context_annotations\",\"created_at\"], max_results=100)\n",
        "\n",
        "tweetLinks = []\n",
        "\n",
        "for tweet in tweets.data:\n",
        "  print(\"this is the tweet: \\n\",tweet)\n",
        "  tweetLink = \"https://twitter.com/twitter/status/\"+str(tweet.id)\n",
        "  print(f\"this is the tweet link: {tweetLink}\\n\")\n",
        "  tweetLinks.append(tweetLink)\n",
        "  "
      ],
      "metadata": {
        "id": "3UrMakqJDICU"
      },
      "execution_count": null,
      "outputs": []
    },
    {
      "cell_type": "code",
      "source": [
        "hashedTweets = []\n",
        "\n",
        "for link in tweetLinks:\n",
        "  hashedLink = hashlib.sha256(link.encode('utf-8')).hexdigest()\n",
        "  hashedTweets.append(hashedLink)\n",
        "\n",
        "print(hashedTweets)\n",
        "print(tweetLinks)\n"
      ],
      "metadata": {
        "colab": {
          "base_uri": "https://localhost:8080/"
        },
        "id": "l4gks-fTDqGK",
        "outputId": "91e7a1e6-5f3c-456e-f8b5-5b1f9b1fbe7f"
      },
      "execution_count": 28,
      "outputs": [
        {
          "output_type": "stream",
          "name": "stdout",
          "text": [
            "['06c872e4df6fcfcf534cd7990394436a4364ee90858f72153302bec37192ed1c', '2cf1bc708f330c2369336984ff988aea745648bba39a7a9389a7975a69bf7c34', 'cf92ef9a7a6a57d4e30193dc62601de61cc557aed3ba189e5602f39706b9b068', '4ffe52440a1e802e707c4075c05580a20471c4e559abd5cefd34f062774c7b5f', 'db52ba92c5ea73b50116c1f38d8a2e878a0b58916ef07f36f130c5fb02029a65', '272d33adaa020ef30175c343ba935d2faa3c804295f0bbec7ebe23744033d082', '40fec78e46becf93749aecb80727a498b2ed46a2ba59b8b73c90c51f02a2ea69', '25c1eddff222e3bc6b2c70bba0f953a31eecfe125de565dda6b2bdc795294080', 'da834950867aa91c1e330c07dc05fccf61a7ff348c5076c5461547f92b53b8a1', '4ecb3da7310b6bda6a9812f29d0e074bc22727692c9e7470e4150e229a169bb0', '092d7d60a7501495b9254f1cdab785a1752600657ea7bb18f341e40d4464ae8c', '2748acc567f605cebc144c16e717c9b5e38a6db3f634eeda97f649e4da31862a', 'fb4a57ed7a56622e914c77a9bcd67551f50ee625139d8d7d9c7e91568df87890', 'b0b5fe3923bb937c284151eea98410d6c12a0e07afdccfe49ea6dffd85f327be', '9162df0ae30729381ce1a3321c34ded7db3e6774314c604657e030ca72e3c395', 'ce343f6c5e25ba42db34de38bf2f3ad886dbf43560aa963fed06e8a74e83f3ef', '4a9bfc0faf2e96d5ab618aa3dfa449498fe770e42fee14456ccf872bd55666ad', 'fecdabb6a14f5275e1b6199f5d0fe4574ec385060f8b2578765549017d6d6b03', 'c17b98fcc73f92a052f6eeba2e6358f28c3a10ef44cb2d19ed1e8c1c04e41f46', '97f19202171aaa1ebddbd3082b3d6971819fc425506fd329f648ed6b02661c5e', '3957edfbb6a1b57df19de4a0a7be305ec4bb8a6978841cb001eacdec036a3474', '652202a343bea8aae77bf256f93e025a3e9d2dfe45a2a17ad6ef4ce8366ac0fe', 'a1ad51d280c7d24bfe72993be6d4c975e092fea7dd00e56b32f5c7ed27256e4a', 'bf94c65565782c1e35eb88384bbfc29e6f7fa7f0e80a6fec75501bd53620388a', 'bde7bbb8b11b894a156547443bd7cd0d3c34f5711de0a34e116c2d2f1c802bc7', 'e67c4a72a8d977f28f379ca56077212a861470c9be9947915a8686001ad2ca0b', 'd20ee420b831ba63c3473b47ca8b94174c3eb0aec089ce2784e541535a56d869', 'e6918e9b74a7032bd237104744ba1c2ed0a1befc99789524d42d3352185bd9e6', 'dc326271cbf61cba3a2f2c20ebadb31a760b5b6d2f0c659088e59157d2fb91b6', '790919a100eed5731496cd9f5e5e97ae92bbad0d31694158e44772fe9b59eda5', '90053155ca684789a1d706e5710e7abb440058b3f4c5a4ab1429155c4ff27829', 'e6ece6a49913bfce1261da391053677abcb5f6e1881424587dfac500302d2b0a', '1de337a1777e0100e9be64d509b434c768e3548947ad24e4dba8b6179652d86d', 'a4e1d69149632560d45a777b68207410a7d74ff2158faf89434a26ac918ba9db', '0dac1abdc90c0ced2074d610e019d594e82f15bb810e978c546a4b19be8ddbe6', 'd06acb9f015a2b6787a5cd1713a8488727eab6de13969ae7b5fd3e10747e2584', 'd8bac5b9239c15a1558330e35abe20b035ed5325b9c43840b1d771e4ea0dfafd', 'de694c9c13d76e09970ac00bf199312938fe3f7ad8b0303e6819a4eb2c2afdb5', 'af59619630d1e436e564dcdedc96a8b47571d672a95d7c90d37492db95879b78', 'fce6a8024e03153ee49766de2087df75632979306e4d8aad296f58ebe5adbda7', 'dff43cad2f3bd0cdb349e3c629122656e0baf3fe3e64edf9d50e87e6e3148eb0', '264cd74a764b414e798c760b7871d7e8b23f8df5ef2ee43684da3d5c6e4cea3a', 'e3432c8d6ae9295571e125456bdaf22024725466deb9be8dd5d90ef9d3433c1f', '8c8d4a51424d35720a6ab4bb500c76611c4e9554c40c5c8021641b938be29b28', 'd753bfc0468ae8770ad80bd07d10351065ec1ebf733e0b5af7f214a222059ff0', '5f12aad9516a003d1164da085004211445fca1658ddce48c3ef7388f97367b8a', '16482e04c790b6ce8812d5e910f2560518a31a66d3a82ceaea7c28b6f246ef88', '5f59bde7255898d7b05eaed5ccdfa4bd5947f83879fd4a51ebdf48aac8b09f4d', '7e3d4c3776e2d76f38f6ce77418452fc7abe3427183981f5531d45ab6c144645', 'd4c6f9e426249cd6aed55894272f6d37b136002ffbddb5ea88c5ec70e4314739', 'e410b38761fd6aba725b049128908d892f6ac0cc20eaed15561ddf1cea9217b9', '483e12aaf163f78b2cbbf94af6e9e2c9d18d42cb98a4b5dd91dc3d13b8d41839', '7574359bf09abb84d7197029cb8462d9332d89ecff7659424decb19c2251ee1b', '0e1bf8c5871cbf42e1bc75b5d754dc1c20e991a2e03002ecb1f006a32a6498ac', '9b69a9131d478e9bb916cb3be257ccbbad33f3a1c859ab8dbd47f74a3e12afbe', '65b6fb6bdd2a00bfcb2d090b5e63385a384d01366c4ea64bce368cc2a879bb69', 'c964170da9ee2b268aa50d3c73e14545f5d352b17b8c44755f78355e7fe431be', 'ed3e81119d8c54db736291d08c4c9fc648bb8523ab67e7da98e7e24010a932d3', '21d806702da5d46886d7ab40209b98c366c8cdfaaf214f330562fc150319cfc1', 'a4d550adcde0cbbc8401f55f0ea5610bd030de8a9079514575b5abe3fdb105ae', '96de86f0eb37fc1170de7fec7bba9c2654cf641f52d22737ddec802c3bc9b5ac', 'cc083f37efa657af605ac84d7e806f35e82e70d2372edaded433102da95780c9', 'c6434d3e314746dcbfbfe82545daea3970139c2661917627782ad0df292a06dd', 'd56b9f4f385bdd8baefa5cd5ee52240dec1a0b97bd804c9d671a91b44e2158ad', '58e2f17e5fa1ed96245b8f0010d6a61c063be64590e50f68ed91f0729077c482', '31837f9fab7b31b92e3fca164414f790b35b86373977299b912724348c33dd2d', '693296838c85506a45e5826cb41a633955c33a170436e46b49d822fc3687db12', 'f0ff08aea4c0c6b3dd733b7c1685924d5ac7eb0c724ac428e14457e0eaa1bc44', '321d85875c82459e64b9fff13acfd69cc18295ab909464ec747a3a8ddd85b3e9', 'b1fc56d3bf8f2110bc9a1556650297bd83e86f343fb83c7a8aff508ab442c0f9', 'c0b4c00c218eb269d3962c32ac454101fc00914e67990046da4b133ddcc3418b', '1e5d471b3001cb52029fd17b393f1794da9b535da3a625d12eb1abb014bcae08', '7bf990f87107064cbf2945f6d0258774b7481bcd7638a569887497058afae1ad', '5a61859c3e520790366dbea59c8b22e4f0c15cb4c542ab5ec57a1a055e4279e9', '6560faa0a25aec937f738160aff78f28f30a0b03953c575370a549a6be1cfbbc', 'd7ee04a9b9bbfeccec6f49406dc4e932c29f8805416226937849f785e5c0afef', '9c3157415ff4cf2b050b08227f4ab9da698c1c1bb283d2804c10426a895022e1', '7b52561e3e68a2fa309e89c457ae2937f8508bbad28c450c3b1c7a7043d48470', 'fb682445e7ebf2923821fceb08c295dd8d8db6544104d66dc61b9934d72d793a', '27bb29731d411b6ef4e9014e985169fb8474ae46fff86f93bed6d0e30f52afdd', '56d3cb1996bbcd902402a59a043a0d9ac0a8ad99ce54a192f11f5b29b0ad1983', '43abcbd2a1b79b8c407b9a38095c1589e332a268e5dfe3bb7f55f9406538b2dd', '4715a0e6b6c9a9375aadfc26742940fc7411c56ef57c9eadc3d16f9f1284733e', '5858ef6c898881845434015e51937d99d303f996dbb8ee7662d358dfe6a1f0bd', 'aa89e3228c537cc233b6ed76468d8073dccef4a07d298d99a6ce0fc985876b81', 'c40afaf36ac3b0eefedd9e32f33cc6b8c5cad72bc5ebc7029f8aedc63b72daf3', '929195ad90e95bf54013b4a81c5f3be5ea27fc03faf951256ddfea4b7da49630', '8e582165297efafc8c429d7957dba3007af21388d3f761e76d4b1693a9a94ce1', '5808b99c3d9a64b485fb29ae904184a75eed2b196d8398b2cc1193a3cb1ea11b', '9a5e99172a58051d06a097a3701dcda8daae9fe0552681648d88e2a352b0153e', '3fd0d447d6787d4a7232e9dad8fce297762267ce6279beb9e2b777efd3c98cc9', 'd3a006bdf238fe1805e9343f831a663966fa18c2f0b9d3f58da6c3e21018bfdd', 'baa991a94cd52ca353f1025cb0a5405ca1cf4edb41410814a74f9ea038645f27', '171610a03173fceb5ee5844e53244c5d61f7841a8405a6b837e1396538721f70', 'cca35bc0da1402d78f7a6cdca3ce8eacd86845fbd50c7e6c0ab918c4c258e40a', 'c09df88099f24220cfe92f31d48471c875ebab2dc532dfc829d136985b615798', 'ef54123ab92aece613b5a4ad772fbc21c71c01dd892fe4c7c0abb87ad7f47c34', '7191fdb89d4bf0e8b7e18da734a17133a3eca2fdd14b3570027b4c06128b0fbb', '94aabb3a9621cafa1ac0e453f6b55da528077e8825162281d80c23b81392b7ed']\n",
            "['https://twitter.com/twitter/status/1602776803541716992', 'https://twitter.com/twitter/status/1602776633454231552', 'https://twitter.com/twitter/status/1602775799907876864', 'https://twitter.com/twitter/status/1602775765690499072', 'https://twitter.com/twitter/status/1602775278580703232', 'https://twitter.com/twitter/status/1602774615839113216', 'https://twitter.com/twitter/status/1602774335801827328', 'https://twitter.com/twitter/status/1602774239697829888', 'https://twitter.com/twitter/status/1602773593724571648', 'https://twitter.com/twitter/status/1602773556596772870', 'https://twitter.com/twitter/status/1602773342175449089', 'https://twitter.com/twitter/status/1602773184100827136', 'https://twitter.com/twitter/status/1602772256337395713', 'https://twitter.com/twitter/status/1602771438037073920', 'https://twitter.com/twitter/status/1602771089314250754', 'https://twitter.com/twitter/status/1602770943406899203', 'https://twitter.com/twitter/status/1602770791459758081', 'https://twitter.com/twitter/status/1602770745695748096', 'https://twitter.com/twitter/status/1602770701794115587', 'https://twitter.com/twitter/status/1602769066174750721', 'https://twitter.com/twitter/status/1602768759831175168', 'https://twitter.com/twitter/status/1602768687949180928', 'https://twitter.com/twitter/status/1602768268431093760', 'https://twitter.com/twitter/status/1602768233181970432', 'https://twitter.com/twitter/status/1602767760508874753', 'https://twitter.com/twitter/status/1602767554321305600', 'https://twitter.com/twitter/status/1602767396988747777', 'https://twitter.com/twitter/status/1602767376277118977', 'https://twitter.com/twitter/status/1602767355502739459', 'https://twitter.com/twitter/status/1602766919060393986', 'https://twitter.com/twitter/status/1602766730119581697', 'https://twitter.com/twitter/status/1602766279001112578', 'https://twitter.com/twitter/status/1602766264962674692', 'https://twitter.com/twitter/status/1602765799713816577', 'https://twitter.com/twitter/status/1602765239157551104', 'https://twitter.com/twitter/status/1602765156445929472', 'https://twitter.com/twitter/status/1602764835057709056', 'https://twitter.com/twitter/status/1602764539472351234', 'https://twitter.com/twitter/status/1602764463085690885', 'https://twitter.com/twitter/status/1602764415082057728', 'https://twitter.com/twitter/status/1602764066593742849', 'https://twitter.com/twitter/status/1602764006506242056', 'https://twitter.com/twitter/status/1602763356993110023', 'https://twitter.com/twitter/status/1602763054651174912', 'https://twitter.com/twitter/status/1602760854381920261', 'https://twitter.com/twitter/status/1602759877948215296', 'https://twitter.com/twitter/status/1602759571788922880', 'https://twitter.com/twitter/status/1602758582096756741', 'https://twitter.com/twitter/status/1602758467114057729', 'https://twitter.com/twitter/status/1602758147596517376', 'https://twitter.com/twitter/status/1602757428583403520', 'https://twitter.com/twitter/status/1602757283737440258', 'https://twitter.com/twitter/status/1602756892442656768', 'https://twitter.com/twitter/status/1602755959767502848', 'https://twitter.com/twitter/status/1602755905858469889', 'https://twitter.com/twitter/status/1602755731379421186', 'https://twitter.com/twitter/status/1602755667101728769', 'https://twitter.com/twitter/status/1602755395990147073', 'https://twitter.com/twitter/status/1602755338008158212', 'https://twitter.com/twitter/status/1602754830480527361', 'https://twitter.com/twitter/status/1602754693515849728', 'https://twitter.com/twitter/status/1602754471490383874', 'https://twitter.com/twitter/status/1602754394126258180', 'https://twitter.com/twitter/status/1602754356700483586', 'https://twitter.com/twitter/status/1602754175904804866', 'https://twitter.com/twitter/status/1602753780260429826', 'https://twitter.com/twitter/status/1602753246291959810', 'https://twitter.com/twitter/status/1602753237123309574', 'https://twitter.com/twitter/status/1602753223353241600', 'https://twitter.com/twitter/status/1602753176440311808', 'https://twitter.com/twitter/status/1602752177566806017', 'https://twitter.com/twitter/status/1602751703891296256', 'https://twitter.com/twitter/status/1602750500444983296', 'https://twitter.com/twitter/status/1602750261054697472', 'https://twitter.com/twitter/status/1602750171938529291', 'https://twitter.com/twitter/status/1602750036001320961', 'https://twitter.com/twitter/status/1602749993101803520', 'https://twitter.com/twitter/status/1602749988785692672', 'https://twitter.com/twitter/status/1602749731666812930', 'https://twitter.com/twitter/status/1602747889415237632', 'https://twitter.com/twitter/status/1602747628772524039', 'https://twitter.com/twitter/status/1602747588385689600', 'https://twitter.com/twitter/status/1602747581393559552', 'https://twitter.com/twitter/status/1602747085144612865', 'https://twitter.com/twitter/status/1602746920002265088', 'https://twitter.com/twitter/status/1602746909063450624', 'https://twitter.com/twitter/status/1602746291322499073', 'https://twitter.com/twitter/status/1602744571028447235', 'https://twitter.com/twitter/status/1602743399185989632', 'https://twitter.com/twitter/status/1602743370949853186', 'https://twitter.com/twitter/status/1602742889934688262', 'https://twitter.com/twitter/status/1602742743998124034', 'https://twitter.com/twitter/status/1602740546262519808', 'https://twitter.com/twitter/status/1602740474489761792', 'https://twitter.com/twitter/status/1602740262853578752', 'https://twitter.com/twitter/status/1602739892257259522', 'https://twitter.com/twitter/status/1602739201765560320', 'https://twitter.com/twitter/status/1602738147594477569', 'https://twitter.com/twitter/status/1602738078602461184']\n"
          ]
        }
      ]
    },
    {
      "cell_type": "code",
      "source": [],
      "metadata": {
        "id": "Gb1hloPL75K2"
      },
      "execution_count": null,
      "outputs": []
    }
  ]
}
